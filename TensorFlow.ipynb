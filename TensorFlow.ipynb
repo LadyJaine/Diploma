{
  "nbformat": 4,
  "nbformat_minor": 0,
  "metadata": {
    "colab": {
      "provenance": []
    },
    "kernelspec": {
      "name": "python3",
      "display_name": "Python 3"
    },
    "language_info": {
      "name": "python"
    }
  },
  "cells": [
    {
      "cell_type": "code",
      "execution_count": null,
      "metadata": {
        "id": "zfxxShZwNNm3"
      },
      "outputs": [],
      "source": [
        "# Импорты необходимых библиотек\n",
        "from tensorflow.keras.models import Sequential\n",
        "from tensorflow.keras.layers import Dense\n",
        "import numpy as np\n",
        "from sklearn.model_selection import train_test_split\n",
        "from sklearn.datasets import load_iris\n",
        "\n",
        "print(dataset.element_spec)\n",
        "# Загрузка данных из датасета Iris\n",
        "iris = load_iris()\n",
        "X = iris.data  # признаки (4 измерения)\n",
        "y = iris.target  # целевая переменная (вид растения)\n",
        "\n",
        "# Разделение данных на обучающую и тестовую выборки\n",
        "X_train, X_test, y_train, y_test = train_test_split(X, y, test_size=0.2)\n",
        "\n",
        "# Создание модели Sequential\n",
        "model = Sequential([\n",
        "    Dense(64, activation='relu', input_shape=(X_train.shape[1],)),\n",
        "    Dense(32, activation='relu'),\n",
        "    Dense(3, activation='softmax')  # 3 класса вида растения\n",
        "])\n",
        "\n",
        "# Компилирование модели\n",
        "model.compile(optimizer='adam', loss='sparse_categorical_crossentropy', metrics=['accuracy'])\n",
        "\n",
        "# Обучение модели\n",
        "model.fit(X_train, y_train, epochs=10, batch_size=32, validation_split=0.1)\n",
        "\n",
        "# Оценка модели на тестовых данных\n",
        "test_loss, test_accuracy = model.evaluate(X_test, y_test)\n",
        "print(f'Test loss: {test_loss}')\n",
        "print(f'Test accuracy: {test_accuracy}')\n"
      ]
    },
    {
      "cell_type": "markdown",
      "source": [
        "## Этот код выполняет следующие действия:\n",
        "\n",
        "\n",
        "\n",
        "*   Импортирует необходимые библиотеки для работы с данными и нейронными сетями.\n",
        "*   Загружает набор данных Iris из scikit-learn.\n",
        "*   Разделяет данные на признаки (X) и целевую переменную (y).\n",
        "*   Разделяет данные на обучающую и тестовую выборки.\n",
        "*   Создает модель Sequential с тремя слоями Dense:\n",
        "Первый скрытый слой с 64 нейронами и активацией ReLU\n",
        "Второй скрытый слой с 32 нейронами и активацией ReLU\n",
        "Выходной слой с 3 нейронами и активацией softmax для многоклассовой классификации\n",
        "*   Компилирует модель, используя оптимизатор Adam, функцию потерь sparse_categorical_crossentropy и метрику точности.\n",
        "*   Обучает модель на 10 эпохах с размером батча 32 и сохраняет 10% данных для валидации.\n",
        "*  Оценивает точность модели на тестовых данных и выводит результаты потерь и точности.\n",
        "Этот код демонстрирует базовую обработку данных и обучение модели многоклассовой классификации с использованием TensorFlow и scikit-learn."
      ],
      "metadata": {
        "id": "wDNZUeWxNeJm"
      }
    },
    {
      "cell_type": "code",
      "source": [
        "# Импорты необходимых библиотек\n",
        "from sklearn.datasets import fetch_openml\n",
        "import tensorflow as tf\n",
        "from sklearn.model_selection import train_test_split\n",
        "import numpy as np\n",
        "from sklearn.metrics import accuracy_score, classification_report\n",
        "\n",
        "# Загрузка датасета steel-plates-fault\n",
        "dataset = fetch_openml('steel-plates-fault', version=1)\n",
        "\n",
        "# Разделение данных на признаки и целевую переменную\n",
        "X = dataset.data\n",
        "y = dataset.target\n",
        "\n",
        "# Преобразование целевой переменной в числовой формат\n",
        "y = y.astype(float)  # Это преобразует категорию в числовое значение\n",
        "\n",
        "# Разделение данных на обучающую и тестовую выборки\n",
        "X_train, X_test, y_train, y_test = train_test_split(X, y, test_size=0.2, random_state=42)\n",
        "\n",
        "# Создание модели TensorFlow без указания input_shape\n",
        "model = tf.keras.models.Sequential([\n",
        "    tf.keras.layers.Dense(64, activation='relu'),\n",
        "    tf.keras.layers.Dense(32, activation='relu'),\n",
        "    tf.keras.layers.Dense(1, activation='sigmoid')\n",
        "])\n",
        "\n",
        "# Компилирование модели\n",
        "model.compile(optimizer='adam', loss='binary_crossentropy', metrics=['accuracy'])\n",
        "\n",
        "# Обучение модели\n",
        "history = model.fit(X_train, y_train, epochs=100, batch_size=32, validation_split=0.1)\n",
        "\n",
        "# Оценка модели на тестовых данных\n",
        "test_loss, test_accuracy = model.evaluate(X_test, y_test)\n",
        "print(f\"Test accuracy: {test_accuracy}\")\n",
        "\n",
        "# Вывод классификационного отчета\n",
        "y_pred = model.predict(X_test)\n",
        "y_pred_class = (y_pred > 0.5).astype(int)\n",
        "print(\"\\nClassification Report:\")\n",
        "print(classification_report(y_test, y_pred_class))\n",
        "\n",
        "# Визуализация обучения модели\n",
        "import matplotlib.pyplot as plt\n",
        "\n",
        "plt.figure(figsize=(10, 5))\n",
        "plt.subplot(121)\n",
        "plt.plot(history.history['accuracy'], label='Training Accuracy')\n",
        "plt.plot(history.history['val_accuracy'], label='Validation Accuracy')\n",
        "plt.title('Model Accuracy')\n",
        "plt.xlabel('Epoch')\n",
        "plt.ylabel('Accuracy')\n",
        "plt.legend()\n",
        "\n",
        "plt.subplot(122)\n",
        "plt.plot(history.history['loss'], label='Training Loss')\n",
        "plt.plot(history.history['val_loss'], label='Validation Loss')\n",
        "plt.title('Model Loss')\n",
        "plt.xlabel('Epoch')\n",
        "plt.ylabel('Loss')\n",
        "plt.legend()\n",
        "\n",
        "plt.tight_layout()\n",
        "plt.show()\n"
      ],
      "metadata": {
        "id": "5KXAETJCNjyx"
      },
      "execution_count": null,
      "outputs": []
    },
    {
      "cell_type": "markdown",
      "source": [
        "Этот код выполняет следующие действия:\n",
        "\n",
        "*   Импортирует необходимые библиотеки для работы с данными и нейронными сетями.\n",
        "*   Загружает датасет steel-plates-fault из OpenML версии 1.\n",
        "\n",
        "*   Разделяет данные на признаки (X) и целевую переменную (y).\n",
        "*   Преобразует целевую переменную в числовой формат.\n",
        "\n",
        "*   Разделяет данные на обучающую и тестовую выборки.\n",
        "*   Создает модель TensorFlow с тремя слоями Dense:\n",
        "Первый скрытый слой с 64 нейронами и активацией ReLU\n",
        "Второй скрытый слой с 32 нейронами и активацией ReLU\n",
        "Выходной слой с одним нейроном и активацией sigmoid для бинарной классификации\n",
        "Компилирует модель, используя оптимизатор Adam, функцию потерь binary_crossentropy и метрику точности.\n",
        "*   Обучает модель на 100 эпохах с размером батча 32 и сохраняет 10% данных для валидации.\n",
        "*   Оценивает точность модели на тестовых данных и выводит результаты потерь и точности.\n",
        "*   Выводит классификационный отчет.\n",
        "*   Визуализирует графики точности и потерь во время обучения.\n",
        "\n",
        "Этот код демонстрирует базовую обработку данных и обучение модели бинарной классификации с использованием TensorFlow и scikit-learn.\n",
        "\n"
      ],
      "metadata": {
        "id": "GOxPPtSfNqvQ"
      }
    }
  ]
}